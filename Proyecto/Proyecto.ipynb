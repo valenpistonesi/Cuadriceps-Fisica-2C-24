{
 "cells": [
  {
   "cell_type": "code",
   "execution_count": null,
   "metadata": {},
   "outputs": [],
   "source": [
    "import cv2\n",
    "import mediapipe as mp\n",
    "import pandas as pd\n",
    "import os\n",
    "\n",
    "# Initialize mediapipe pose and drawing utilities\n",
    "mp_pose = mp.solutions.pose\n",
    "\n",
    "# Crear una lista vacía para almacenar los datos\n",
    "landmark_data = []\n",
    "\n",
    "# Open the video file\n",
    "cap = cv2.VideoCapture(\"IMG_0435.MOV\")\n",
    "\n",
    "# Initialize pose estimation (set `static_image_mode` to False for videos)\n",
    "with mp_pose.Pose(static_image_mode=False) as pose:\n",
    "    frame_count = 0\n",
    "    while True:\n",
    "        ret, frame = cap.read()  # Leer cada frame del video\n",
    "        if not ret:\n",
    "            break  # Salir del loop cuando no haya más frames\n",
    "\n",
    "        # Convertir el frame a RGB para procesarlo\n",
    "        frame_rgb = cv2.cvtColor(frame, cv2.COLOR_BGR2RGB)\n",
    "        results = pose.process(frame_rgb)  # Procesar los landmarks\n",
    "\n",
    "        # Si se detectan landmarks, extraer las coordenadas\n",
    "        if results.pose_landmarks:\n",
    "            for id, lm in enumerate(results.pose_landmarks.landmark):\n",
    "                # Añadir los datos a la lista\n",
    "                landmark_data.append({\n",
    "                    'frame': frame_count,\n",
    "                    'landmark_id': id,\n",
    "                    'x': lm.x,\n",
    "                    'y': lm.y,\n",
    "                    'z': lm.z,\n",
    "                    'visibility': lm.visibility\n",
    "                })\n",
    "\n",
    "        frame_count += 1\n",
    "\n",
    "# Liberar el video\n",
    "cap.release()\n",
    "\n",
    "# Convertir la lista en un dataframe\n",
    "df = pd.DataFrame(landmark_data)\n",
    "\n",
    "# Crear una carpeta para guardar el archivo CSV (si no existe ya)\n",
    "output_folder = \"output\"\n",
    "os.makedirs(output_folder, exist_ok=True)\n",
    "\n",
    "# Guardar el dataframe en un archivo CSV dentro de la carpeta\n",
    "csv_file_path = os.path.join(output_folder, 'tracked_landmarks.csv')\n",
    "df.to_csv(csv_file_path, index=False)\n",
    "\n",
    "print(f\"Datos guardados en: {csv_file_path}\")"
   ]
  },
  {
   "cell_type": "code",
   "execution_count": null,
   "metadata": {},
   "outputs": [],
   "source": [
    "import pandas as pd\n",
    "import os\n",
    "\n",
    "# Cargar el CSV original con todos los landmarks trackeados\n",
    "csv_file_path = 'output/tracked_landmarks.csv'  # Cambia esta ruta si es necesario\n",
    "df = pd.read_csv(csv_file_path)\n",
    "\n",
    "# Filtrar solo las filas donde landmark_id es 27\n",
    "df_landmark_27 = df[df['landmark_id'] == 27]\n",
    "\n",
    "# Crear una carpeta para guardar el nuevo archivo CSV (si no existe ya)\n",
    "output_folder = \"output\"\n",
    "os.makedirs(output_folder, exist_ok=True)\n",
    "\n",
    "# Guardar el dataframe filtrado en un nuevo archivo CSV llamado 'trackeo_deseado.csv'\n",
    "csv_file_path_landmark_27 = os.path.join(output_folder, 'trackeo_deseado.csv')\n",
    "df_landmark_27.to_csv(csv_file_path_landmark_27, index=False)\n",
    "\n",
    "print(f\"Datos del landmark 27 guardados en: {csv_file_path_landmark_27}\")\n"
   ]
  },
  {
   "cell_type": "code",
   "execution_count": null,
   "metadata": {},
   "outputs": [],
   "source": [
    "def video():\n",
    "  from google.colab import files\n",
    "  uploaded = files.upload()\n"
   ]
  }
 ],
 "metadata": {
  "kernelspec": {
   "display_name": "MV_ProyectoFisica",
   "language": "python",
   "name": "python3"
  },
  "language_info": {
   "name": "python",
   "version": "3.10.14"
  }
 },
 "nbformat": 4,
 "nbformat_minor": 2
}
